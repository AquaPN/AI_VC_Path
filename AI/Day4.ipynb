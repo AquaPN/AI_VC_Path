{
 "cells": [
  {
   "cell_type": "markdown",
   "id": "903878bc",
   "metadata": {},
   "source": [
    "# Loops"
   ]
  },
  {
   "cell_type": "markdown",
   "id": "51dba19d",
   "metadata": {},
   "source": [
    "Write a loop that prints numbers 1 to 10.\n",
    "\n",
    "Do this once with for and once with while."
   ]
  },
  {
   "cell_type": "code",
   "execution_count": 2,
   "id": "623c2885",
   "metadata": {},
   "outputs": [
    {
     "name": "stdout",
     "output_type": "stream",
     "text": [
      "1\n",
      "2\n",
      "3\n",
      "4\n",
      "5\n",
      "6\n",
      "7\n",
      "8\n",
      "9\n",
      "10\n",
      "1\n",
      "2\n",
      "3\n",
      "4\n",
      "5\n",
      "6\n",
      "7\n",
      "8\n",
      "9\n",
      "10\n"
     ]
    }
   ],
   "source": [
    "# Using a for loop to print numbers 1 to 10\n",
    "for i in range(1, 11):\n",
    "    print(i)\n",
    "\n",
    "# Using a while loop to print numbers 1 to 10\n",
    "i = 1\n",
    "while i <= 10:\n",
    "    print(i)\n",
    "    i += 1"
   ]
  },
  {
   "cell_type": "markdown",
   "id": "decfa9f5",
   "metadata": {},
   "source": [
    "Write a loop to print only the even numbers."
   ]
  },
  {
   "cell_type": "code",
   "execution_count": 4,
   "id": "481c8b30",
   "metadata": {},
   "outputs": [
    {
     "name": "stdout",
     "output_type": "stream",
     "text": [
      "2\n",
      "8\n",
      "14\n",
      "20\n"
     ]
    }
   ],
   "source": [
    "nums = [2, 5, 8, 11, 14, 17, 20]\n",
    "for num in nums:\n",
    "    if num % 2 == 0:\n",
    "        print(num)"
   ]
  },
  {
   "cell_type": "markdown",
   "id": "0c391b22",
   "metadata": {},
   "source": [
    "Write a loop to calculate the sum of numbers from 1 to 100.\n"
   ]
  },
  {
   "cell_type": "code",
   "execution_count": 6,
   "id": "6e8fbd00",
   "metadata": {},
   "outputs": [
    {
     "name": "stdout",
     "output_type": "stream",
     "text": [
      "5050\n"
     ]
    }
   ],
   "source": [
    "sum = 0\n",
    "for i in range(1, 101):\n",
    "    sum += i\n",
    "print(sum)"
   ]
  },
  {
   "cell_type": "markdown",
   "id": "c96fbf32",
   "metadata": {},
   "source": [
    "You’re analyzing a startup’s daily active users (DAU):\n",
    "\n",
    "users = [120, 135, 150, 90, 160, 200, 80]\n",
    "\n",
    "\n",
    "Write a loop that prints \"Drop detected\" if DAU is less than 100, otherwise print the number."
   ]
  },
  {
   "cell_type": "code",
   "execution_count": 7,
   "id": "efdde4a5",
   "metadata": {},
   "outputs": [
    {
     "name": "stdout",
     "output_type": "stream",
     "text": [
      "120\n",
      "135\n",
      "150\n",
      "Drop detected\n",
      "160\n",
      "200\n",
      "Drop detected\n"
     ]
    }
   ],
   "source": [
    "users = [120, 135, 150, 90, 160, 200, 80]\n",
    "for i in range(len(users)):\n",
    "    if users[i] > 100:\n",
    "        print(users[i])\n",
    "    else:\n",
    "        print(\"Drop detected\")"
   ]
  }
 ],
 "metadata": {
  "kernelspec": {
   "display_name": "Python 3",
   "language": "python",
   "name": "python3"
  },
  "language_info": {
   "codemirror_mode": {
    "name": "ipython",
    "version": 3
   },
   "file_extension": ".py",
   "mimetype": "text/x-python",
   "name": "python",
   "nbconvert_exporter": "python",
   "pygments_lexer": "ipython3",
   "version": "3.11.9"
  }
 },
 "nbformat": 4,
 "nbformat_minor": 5
}
