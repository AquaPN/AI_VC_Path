{
 "cells": [
  {
   "cell_type": "markdown",
   "id": "c19511b9",
   "metadata": {},
   "source": [
    "<h3>Error Handling & Logging"
   ]
  },
  {
   "cell_type": "markdown",
   "id": "e142a0da",
   "metadata": {},
   "source": [
    "Write a function safe_divide(a, b) that:\n",
    "\n",
    "Returns the result of a / b.\n",
    "\n",
    "If b == 0, catches the error and returns \"Division by zero not allowed!\"."
   ]
  },
  {
   "cell_type": "code",
   "execution_count": 2,
   "id": "2eb6298b",
   "metadata": {},
   "outputs": [
    {
     "name": "stdout",
     "output_type": "stream",
     "text": [
      "5.0\n",
      "Error: Division by zero is not allowed.\n"
     ]
    }
   ],
   "source": [
    "def safe_divide(a, b):\n",
    "    try:\n",
    "        return a / b\n",
    "    except ZeroDivisionError:\n",
    "        return \"Error: Division by zero is not allowed.\"\n",
    "\n",
    "# Example usage 1\n",
    "print(safe_divide(10, 2))  # Output: 5.0\n",
    "# Example usage 2\n",
    "print(safe_divide(10, 0))  # Output: Error: Division by zero is not allowed."
   ]
  },
  {
   "cell_type": "markdown",
   "id": "ce517e96",
   "metadata": {},
   "source": [
    "Task B:\n",
    "Modify your Day 8 mini-project:\n",
    "\n",
    "Add error handling when reading scores.csv.\n",
    "\n",
    "If the file isn’t found, log an error to app.log."
   ]
  },
  {
   "cell_type": "code",
   "execution_count": null,
   "id": "a4582126",
   "metadata": {},
   "outputs": [
    {
     "name": "stdout",
     "output_type": "stream",
     "text": [
      "Error: invalid literal for int() with base 10: 'Partho'\n"
     ]
    }
   ],
   "source": [
    "def safe_reading():\n",
    "    try:\n",
    "        with open.csv('scores.csv', 'r') as file:\n",
    "            reader = csv.reader(file)\n",
    "            scores = [int(row[0]) for row in reader]\n",
    "            return scores\n",
    "    except FileNotFoundError:\n",
    "        return \"Error: The file 'scores.csv' was not found.\"\n",
    "    \n",
    "# Example usage\n",
    "print(safe_reading())  # Output: Error: The file 'scores.csv' was not found."
   ]
  },
  {
   "cell_type": "markdown",
   "id": "3e640888",
   "metadata": {},
   "source": [
    "Task C:\n",
    "Make a log entry whenever you save JSON data successfully."
   ]
  },
  {
   "cell_type": "code",
   "execution_count": 12,
   "id": "1b72a9aa",
   "metadata": {},
   "outputs": [],
   "source": [
    "import json\n",
    "\n",
    "def log_json_entry(entry, filename='log.json'):\n",
    "    try:\n",
    "        with open(filename, 'a') as file:\n",
    "            json.dump(entry, file)\n",
    "            file.write('\\n')\n",
    "    except IOError:\n",
    "        return \"Error: Could not write to file.\"\n",
    "# Example usage\n",
    "log_json_entry({\"event\": \"test\", \"value\": 123})"
   ]
  }
 ],
 "metadata": {
  "kernelspec": {
   "display_name": "Python 3",
   "language": "python",
   "name": "python3"
  },
  "language_info": {
   "codemirror_mode": {
    "name": "ipython",
    "version": 3
   },
   "file_extension": ".py",
   "mimetype": "text/x-python",
   "name": "python",
   "nbconvert_exporter": "python",
   "pygments_lexer": "ipython3",
   "version": "3.11.9"
  }
 },
 "nbformat": 4,
 "nbformat_minor": 5
}
