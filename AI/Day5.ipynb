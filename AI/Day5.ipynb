{
 "cells": [
  {
   "cell_type": "markdown",
   "id": "17f0d6d6",
   "metadata": {},
   "source": [
    "# Functions"
   ]
  },
  {
   "cell_type": "markdown",
   "id": "4affb8cb",
   "metadata": {},
   "source": [
    "Task 1: Write a function square(num) that returns the square of a number."
   ]
  },
  {
   "cell_type": "code",
   "execution_count": 4,
   "id": "630d1aa3",
   "metadata": {},
   "outputs": [
    {
     "name": "stdout",
     "output_type": "stream",
     "text": [
      "25\n"
     ]
    }
   ],
   "source": [
    "def sq(num):\n",
    "    return num * num\n",
    "\n",
    "print(sq(5))"
   ]
  },
  {
   "cell_type": "markdown",
   "id": "d77244f8",
   "metadata": {},
   "source": [
    "Task 2: Write a function is_even(num) that returns True if the number is even, otherwise False."
   ]
  },
  {
   "cell_type": "code",
   "execution_count": 5,
   "id": "8fe3d2b3",
   "metadata": {},
   "outputs": [
    {
     "name": "stdout",
     "output_type": "stream",
     "text": [
      "True\n"
     ]
    }
   ],
   "source": [
    "def is_even(n):\n",
    "    if n % 2 == 0:\n",
    "        return True\n",
    "    else:\n",
    "        return False\n",
    "    \n",
    "print(is_even(4))"
   ]
  },
  {
   "cell_type": "markdown",
   "id": "3da042b0",
   "metadata": {},
   "source": [
    "Task 3: Write a function sum_list(numbers) that takes a list and returns the total sum."
   ]
  },
  {
   "cell_type": "code",
   "execution_count": 6,
   "id": "59874688",
   "metadata": {},
   "outputs": [
    {
     "name": "stdout",
     "output_type": "stream",
     "text": [
      "15\n"
     ]
    }
   ],
   "source": [
    "def sum_list(numbers):\n",
    "    total = 0\n",
    "    for num in numbers:\n",
    "        total += num\n",
    "    return total\n",
    "\n",
    "print(sum_list([1, 2, 3, 4, 5]))"
   ]
  },
  {
   "cell_type": "markdown",
   "id": "5632d505",
   "metadata": {},
   "source": [
    "Task 4 (Bonus Startup Case):\n",
    "A startup tracks user logins per day:\n",
    "logins = [50, 80, 120, 90, 150]\n",
    "Write a function average_logins(data) that returns the average number of logins."
   ]
  },
  {
   "cell_type": "code",
   "execution_count": 7,
   "id": "9d3a71c0",
   "metadata": {},
   "outputs": [
    {
     "name": "stdout",
     "output_type": "stream",
     "text": [
      "98.0\n"
     ]
    }
   ],
   "source": [
    "def average_logins(data):\n",
    "    return sum(data) / len(data)\n",
    "\n",
    "logins = [50, 80, 120, 90, 150]\n",
    "print(average_logins(logins))"
   ]
  }
 ],
 "metadata": {
  "kernelspec": {
   "display_name": "Python 3",
   "language": "python",
   "name": "python3"
  },
  "language_info": {
   "codemirror_mode": {
    "name": "ipython",
    "version": 3
   },
   "file_extension": ".py",
   "mimetype": "text/x-python",
   "name": "python",
   "nbconvert_exporter": "python",
   "pygments_lexer": "ipython3",
   "version": "3.11.9"
  }
 },
 "nbformat": 4,
 "nbformat_minor": 5
}
