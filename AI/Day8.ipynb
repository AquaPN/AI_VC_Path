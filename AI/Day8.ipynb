{
 "cells": [
  {
   "cell_type": "markdown",
   "id": "6545e695",
   "metadata": {},
   "source": [
    "<h3>Modules, Imports, and File Handling"
   ]
  },
  {
   "cell_type": "markdown",
   "id": "f330e144",
   "metadata": {},
   "source": [
    "Task A — Custom module\n",
    "\n",
    "Create a file math_utils.py with a function:\n",
    "\n",
    "def factorial(n):\n",
    "    return 1 if n == 0 else n * factorial(n-1)\n",
    "\n",
    "\n",
    "Create main.py that imports factorial and prints factorial(5)."
   ]
  },
  {
   "cell_type": "code",
   "execution_count": 1,
   "id": "01a8fc99",
   "metadata": {},
   "outputs": [
    {
     "name": "stdout",
     "output_type": "stream",
     "text": [
      "120\n"
     ]
    }
   ],
   "source": [
    "import math_utils\n",
    "print(math_utils.factorial(5))"
   ]
  },
  {
   "cell_type": "markdown",
   "id": "1efd8926",
   "metadata": {},
   "source": [
    "Task B — CSV student scores\n",
    "\n",
    "Write code that stores {\"Partho\": 95, \"Orion\": 99, \"Atlas\": 92} into scores.csv.\n",
    "\n",
    "Read the CSV back and print each student’s name & score."
   ]
  },
  {
   "cell_type": "code",
   "execution_count": 2,
   "id": "ec931c0b",
   "metadata": {},
   "outputs": [
    {
     "name": "stdout",
     "output_type": "stream",
     "text": [
      "['Name', 'Score']\n",
      "['Partho', '95']\n",
      "['Orion', '99']\n",
      "['Atlas', '92']\n"
     ]
    }
   ],
   "source": [
    "import csv\n",
    "with open('scores.csv', mode='w', newline='') as file:\n",
    "    writer = csv.writer(file)\n",
    "    writer.writerow([\"Name\", \"Score\"])\n",
    "    writer.writerow([\"Partho\", 95])\n",
    "    writer.writerow([\"Orion\", 99])\n",
    "    writer.writerow([\"Atlas\", 92])\n",
    "\n",
    "with open('scores.csv', mode='r') as file:\n",
    "    reader = csv.reader(file)\n",
    "    for row in reader:\n",
    "        print(row)\n"
   ]
  },
  {
   "cell_type": "markdown",
   "id": "e9424f42",
   "metadata": {},
   "source": [
    "Task C — JSON config\n",
    "\n",
    "Save a dict: {\"project\": \"AI Journey\", \"day\": 8, \"mentor\": \"Orion\"} to config.json.\n",
    "\n",
    "Load it and print \"Welcome to Day 8 of AI Journey with Orion\"."
   ]
  },
  {
   "cell_type": "code",
   "execution_count": 5,
   "id": "a8f9994e",
   "metadata": {},
   "outputs": [
    {
     "name": "stdout",
     "output_type": "stream",
     "text": [
      "{\n",
      "    \"some_data\": {\n",
      "        \"project\": \"AI Journey\",\n",
      "        \"day\": 8,\n",
      "        \"mentor\": \"Orion\"\n",
      "    }\n",
      "}\n"
     ]
    }
   ],
   "source": [
    "import json\n",
    "data = {\n",
    "    \"some_data\": {\n",
    "        \"project\": \"AI Journey\",\n",
    "        \"day\": 8,\n",
    "        \"mentor\": \"Orion\"\n",
    "    }\n",
    "}\n",
    "json_string = json.dumps(data, indent=4)\n",
    "print(json_string)"
   ]
  },
  {
   "cell_type": "markdown",
   "id": "04ebdb83",
   "metadata": {},
   "source": [
    "Write a script that:\n",
    "\n",
    "Reads scores.csv.\n",
    "\n",
    "Converts the data into a list of dictionaries ({\"Name\": ..., \"Score\": ...}).\n",
    "\n",
    "Saves that list into a JSON file called scores.json.\n",
    "\n",
    "Hint: You’ll need csv.DictReader and json.dump."
   ]
  },
  {
   "cell_type": "code",
   "execution_count": null,
   "id": "dacca5a7",
   "metadata": {},
   "outputs": [],
   "source": []
  },
  {
   "cell_type": "code",
   "execution_count": 6,
   "id": "30bb5c86",
   "metadata": {},
   "outputs": [
    {
     "name": "stdout",
     "output_type": "stream",
     "text": [
      "[\n",
      "    {\n",
      "        \"Name\": \"Partho\",\n",
      "        \"Score\": \"95\"\n",
      "    },\n",
      "    {\n",
      "        \"Name\": \"Orion\",\n",
      "        \"Score\": \"99\"\n",
      "    },\n",
      "    {\n",
      "        \"Name\": \"Atlas\",\n",
      "        \"Score\": \"92\"\n",
      "    }\n",
      "]\n"
     ]
    }
   ],
   "source": [
    "import csv, json\n",
    "with open('scores.csv', mode='r') as file:\n",
    "    reader = csv.DictReader(file)\n",
    "    data = [row for row in reader]\n",
    "json_string = json.dumps(data, indent=4)\n",
    "print(json_string)"
   ]
  }
 ],
 "metadata": {
  "kernelspec": {
   "display_name": "Python 3",
   "language": "python",
   "name": "python3"
  },
  "language_info": {
   "codemirror_mode": {
    "name": "ipython",
    "version": 3
   },
   "file_extension": ".py",
   "mimetype": "text/x-python",
   "name": "python",
   "nbconvert_exporter": "python",
   "pygments_lexer": "ipython3",
   "version": "3.11.9"
  }
 },
 "nbformat": 4,
 "nbformat_minor": 5
}
