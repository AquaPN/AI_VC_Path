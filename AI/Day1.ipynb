{
 "cells": [
  {
   "cell_type": "markdown",
   "id": "e51ad229",
   "metadata": {},
   "source": [
    "# Day 1 : Python Basics"
   ]
  },
  {
   "cell_type": "markdown",
   "id": "87266106",
   "metadata": {},
   "source": [
    "<h3> Installing Python and Jupyter </h3>"
   ]
  },
  {
   "cell_type": "code",
   "execution_count": 1,
   "id": "df57e265",
   "metadata": {},
   "outputs": [
    {
     "name": "stdout",
     "output_type": "stream",
     "text": [
      "Python and Jupyter is installed\n"
     ]
    }
   ],
   "source": [
    "print(\"Python and Jupyter is installed\")"
   ]
  },
  {
   "cell_type": "markdown",
   "id": "0e99022e",
   "metadata": {},
   "source": [
    "<h3> Python basics </h3>"
   ]
  },
  {
   "cell_type": "code",
   "execution_count": 2,
   "id": "9f10e264",
   "metadata": {},
   "outputs": [
    {
     "name": "stdout",
     "output_type": "stream",
     "text": [
      "Partho\n"
     ]
    }
   ],
   "source": [
    "#Print your name\n",
    "print(\"Partho\")"
   ]
  },
  {
   "cell_type": "code",
   "execution_count": 3,
   "id": "192154d1",
   "metadata": {},
   "outputs": [
    {
     "name": "stdout",
     "output_type": "stream",
     "text": [
      "30\n"
     ]
    }
   ],
   "source": [
    "#Add two numbers and print the result\n",
    "a = 10\n",
    "b = 20\n",
    "c = a + b\n",
    "print(c)"
   ]
  },
  {
   "cell_type": "code",
   "execution_count": 4,
   "id": "3383a13d",
   "metadata": {},
   "outputs": [
    {
     "name": "stdout",
     "output_type": "stream",
     "text": [
      "I am 22 years old.\n"
     ]
    }
   ],
   "source": [
    "#Create a variable with your age and print: \"I am X years old.\"\n",
    "age = 22\n",
    "print(\"I am\", age, \"years old.\")"
   ]
  }
 ],
 "metadata": {
  "kernelspec": {
   "display_name": "Python 3",
   "language": "python",
   "name": "python3"
  },
  "language_info": {
   "codemirror_mode": {
    "name": "ipython",
    "version": 3
   },
   "file_extension": ".py",
   "mimetype": "text/x-python",
   "name": "python",
   "nbconvert_exporter": "python",
   "pygments_lexer": "ipython3",
   "version": "3.11.9"
  }
 },
 "nbformat": 4,
 "nbformat_minor": 5
}
