{
 "cells": [
  {
   "cell_type": "markdown",
   "id": "55faba76",
   "metadata": {},
   "source": [
    "<h3>Mini Project: CSV Data Cleaner with Logging"
   ]
  },
  {
   "cell_type": "markdown",
   "id": "6f8fc691",
   "metadata": {},
   "source": [
    "📝 Project Goal\n",
    "\n",
    "We’ll:\n",
    "\n",
    "Load a messy CSV file.\n",
    "\n",
    "Handle missing values or wrong data types.\n",
    "\n",
    "Log every issue.\n",
    "\n",
    "Save the cleaned dataset back."
   ]
  },
  {
   "cell_type": "code",
   "execution_count": null,
   "id": "b6d39390",
   "metadata": {},
   "outputs": [],
   "source": [
    "import csv\n",
    "import json\n",
    "import logging\n",
    "\n",
    "logging.basicConfig(\n",
    "    filename='data_cleaning.log',\n",
    "    level=logging.DEBUG,\n",
    "    format='%(asctime)s - %(levelname)s - %(message)s'\n",
    ")\n",
    "\n",
    "def clean_csv(input_file, output_file):\n",
    "    cleaned_data = []\n",
    "\n",
    "    try:\n",
    "        with open(input_file, mode='r', newline='', encoding='utf-8') as csvfile:\n",
    "            reader = csv.DictReader(csvfile)\n",
    "            for row in reader:\n",
    "                name = row.get('Name', '').strip()\n",
    "                score = row.get('Score', '').strip()\n",
    "                age = row.get('Age', '').strip()\n",
    "\n",
    "                # Fix missing name\n",
    "                if not name:\n",
    "                    logging.warning(f\"Missing name in row: {row}\")\n",
    "                    continue\n",
    "\n",
    "                # Fix invalid score\n",
    "                try:\n",
    "                    score = int(score)\n",
    "                except ValueError:\n",
    "                    logging.warning(f\"Invalid score '{score}' for name '{name}'. Setting score to 0.\")\n",
    "                    score = 0\n",
    "\n",
    "                # Fix invalid age\n",
    "                try:\n",
    "                    age = int(age)\n",
    "                except ValueError:\n",
    "                    logging.warning(f\"Invalid age '{age}' for name '{name}'. Setting age to -1.\")\n",
    "                    age = -1\n",
    "    \n",
    "        # Save cleaned data\n",
    "        with open(output_file, mode='w', newline='', encoding='utf-8') as outfile:\n",
    "            writer = csv.DictWriter(outfile, fieldnames=['Name', 'Score', 'Age'])\n",
    "            writer.writeheader()\n",
    "            writer.writerows(cleaned_data)\n",
    "\n",
    "        logging.info(f\"Data cleaning complete. Cleaned data saved to {output_file}\")\n",
    "    except Exception as e:\n",
    "        logging.error(f\"File not found : {e}\")\n",
    "    except Exception as e:\n",
    "        logging.error(f\"An error occurred: {e}\")\n",
    "\n"
   ]
  },
  {
   "cell_type": "code",
   "execution_count": null,
   "id": "0aac5b20",
   "metadata": {},
   "outputs": [
    {
     "ename": "NameError",
     "evalue": "name 'clean_csv' is not defined",
     "output_type": "error",
     "traceback": [
      "\u001b[1;31m---------------------------------------------------------------------------\u001b[0m",
      "\u001b[1;31mNameError\u001b[0m                                 Traceback (most recent call last)",
      "Cell \u001b[1;32mIn[1], line 1\u001b[0m\n\u001b[1;32m----> 1\u001b[0m \u001b[43mclean_csv\u001b[49m(\u001b[38;5;124m'\u001b[39m\u001b[38;5;124mstudents.csv\u001b[39m\u001b[38;5;124m'\u001b[39m, \u001b[38;5;124m'\u001b[39m\u001b[38;5;124mcleaned_data.csv\u001b[39m\u001b[38;5;124m'\u001b[39m)\n",
      "\u001b[1;31mNameError\u001b[0m: name 'clean_csv' is not defined"
     ]
    }
   ],
   "source": [
    "clean_csv('students.csv', 'cleaned_data.csv')"
   ]
  }
 ],
 "metadata": {
  "kernelspec": {
   "display_name": "Python 3",
   "language": "python",
   "name": "python3"
  },
  "language_info": {
   "codemirror_mode": {
    "name": "ipython",
    "version": 3
   },
   "file_extension": ".py",
   "mimetype": "text/x-python",
   "name": "python",
   "nbconvert_exporter": "python",
   "pygments_lexer": "ipython3",
   "version": "3.11.9"
  }
 },
 "nbformat": 4,
 "nbformat_minor": 5
}
