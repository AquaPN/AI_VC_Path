{
 "cells": [
  {
   "cell_type": "markdown",
   "id": "6579d1c9",
   "metadata": {},
   "source": [
    "# Lists"
   ]
  },
  {
   "cell_type": "markdown",
   "id": "c2d043f6",
   "metadata": {},
   "source": [
    "<h3>Create a list of 5 of your favorite movies.</h3>\n",
    "\n",
    "Print the first and last movie using indexing."
   ]
  },
  {
   "cell_type": "code",
   "execution_count": 3,
   "id": "ee40bcfa",
   "metadata": {},
   "outputs": [
    {
     "name": "stdout",
     "output_type": "stream",
     "text": [
      "Avengers: Endgame\n",
      "The Matrix\n"
     ]
    }
   ],
   "source": [
    "favmovies = ['Avengers: Endgame', 'Inception', 'The Dark Knight', 'Interstellar', 'The Matrix']\n",
    "print(favmovies[0])  # First movie\n",
    "print(favmovies[-1]) #Last movie"
   ]
  },
  {
   "cell_type": "markdown",
   "id": "f7c54674",
   "metadata": {},
   "source": [
    "<h3>Create a list of 6 numbers.</h3>\n",
    "\n",
    "Print the first 3 numbers using slicing.<br>\n",
    "Print the last 2 numbers using slicing."
   ]
  },
  {
   "cell_type": "code",
   "execution_count": 4,
   "id": "9f6633a9",
   "metadata": {},
   "outputs": [
    {
     "name": "stdout",
     "output_type": "stream",
     "text": [
      "[10, 20, 30]\n",
      "[50, 60]\n"
     ]
    }
   ],
   "source": [
    "numbers = [10, 20, 30, 40, 50, 60]\n",
    "print(numbers[:3])  # First 3 numbers\n",
    "print(numbers[-2:]) # Last 2 numbers"
   ]
  },
  {
   "cell_type": "markdown",
   "id": "43934977",
   "metadata": {},
   "source": [
    "<h3>Modify the list of movies: </h3>\n",
    "\n",
    "Change the 2nd movie to another one.<br>\n",
    "Add one more movie at the end.<br>\n",
    "Remove the first movie."
   ]
  },
  {
   "cell_type": "code",
   "execution_count": 5,
   "id": "d7f51376",
   "metadata": {},
   "outputs": [
    {
     "name": "stdout",
     "output_type": "stream",
     "text": [
      "['Pulp Fiction', 'The Dark Knight', 'Interstellar', 'The Matrix', 'Fight Club']\n"
     ]
    }
   ],
   "source": [
    "favmovies[1] = 'Pulp Fiction'  # Change 2nd movie\n",
    "favmovies.append('Fight Club')  # Add a movie at the end\n",
    "favmovies.pop(0)  # Remove the first movie\n",
    "print(favmovies)  # Print the modified list"
   ]
  },
  {
   "cell_type": "markdown",
   "id": "780b68fe",
   "metadata": {},
   "source": [
    "Bonus: Make a list of numbers from 1 to 5, and then calculate their sum using the built-in sum() function."
   ]
  },
  {
   "cell_type": "code",
   "execution_count": null,
   "id": "0878b6dd",
   "metadata": {},
   "outputs": [
    {
     "name": "stdout",
     "output_type": "stream",
     "text": [
      "15\n"
     ]
    }
   ],
   "source": [
    "nos = [1, 2, 3, 4, 5]\n",
    "total = sum(nos)\n",
    "print(total)  # Output: 15"
   ]
  }
 ],
 "metadata": {
  "kernelspec": {
   "display_name": "Python 3",
   "language": "python",
   "name": "python3"
  },
  "language_info": {
   "codemirror_mode": {
    "name": "ipython",
    "version": 3
   },
   "file_extension": ".py",
   "mimetype": "text/x-python",
   "name": "python",
   "nbconvert_exporter": "python",
   "pygments_lexer": "ipython3",
   "version": "3.11.9"
  }
 },
 "nbformat": 4,
 "nbformat_minor": 5
}
