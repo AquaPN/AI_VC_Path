{
 "cells": [
  {
   "cell_type": "markdown",
   "id": "722de7b8",
   "metadata": {},
   "source": [
    "<h3> List, Dictionaries and Tuples</h3>"
   ]
  },
  {
   "cell_type": "markdown",
   "id": "a7f63ff2",
   "metadata": {},
   "source": [
    "Task A: Filter even squares\n",
    "Input: [1,2,3,4,5,6,7,8]\n",
    "Output: [4, 16, 36, 64]"
   ]
  },
  {
   "cell_type": "code",
   "execution_count": 1,
   "id": "e95a9d16",
   "metadata": {},
   "outputs": [
    {
     "name": "stdout",
     "output_type": "stream",
     "text": [
      "[4, 16, 36, 64]\n"
     ]
    }
   ],
   "source": [
    "input = [1,2,3,4,5,6,7,8]\n",
    "out = [num * num for num in input]\n",
    "output = [num for num in out if num % 2 == 0]\n",
    "print(output)"
   ]
  },
  {
   "cell_type": "markdown",
   "id": "7762c8af",
   "metadata": {},
   "source": [
    "Task B: Word lengths dictionary\n",
    "Input: [\"AI\", \"is\", \"the\", \"future\"]\n",
    "Output: {\"AI\":2, \"is\":2, \"the\":3, \"future\":6}"
   ]
  },
  {
   "cell_type": "code",
   "execution_count": 2,
   "id": "e30d40b0",
   "metadata": {},
   "outputs": [
    {
     "name": "stdout",
     "output_type": "stream",
     "text": [
      "{'AI': 2, 'is': 2, 'the': 3, 'future': 6}\n"
     ]
    }
   ],
   "source": [
    "inputb = [\"AI\", \"is\", \"the\", \"future\"]\n",
    "outputb = {x: len(x) for x in inputb}\n",
    "print(outputb)"
   ]
  },
  {
   "cell_type": "markdown",
   "id": "4335b084",
   "metadata": {},
   "source": [
    "Task C: Flatten nested list\n",
    "Input: [[1,2], [3,4], [5,6]]\n",
    "Output: [1,2,3,4,5,6]"
   ]
  },
  {
   "cell_type": "code",
   "execution_count": 3,
   "id": "3b24121c",
   "metadata": {},
   "outputs": [
    {
     "name": "stdout",
     "output_type": "stream",
     "text": [
      "[1, 2, 3, 4, 5, 6]\n"
     ]
    }
   ],
   "source": [
    "inputc = [[1,2], [3,4], [5,6]]\n",
    "outputc = [num for sublist in inputc for num in sublist]\n",
    "print(outputc)"
   ]
  },
  {
   "cell_type": "markdown",
   "id": "5e592209",
   "metadata": {},
   "source": [
    "Write a function word_count(filename) that:\n",
    "\n",
    "Opens a text file\n",
    "\n",
    "Counts the frequency of each word (case-insensitive)\n",
    "\n",
    "Returns a dictionary {word: count}\n",
    "\n",
    "Handle errors: file not found, empty file, etc."
   ]
  },
  {
   "cell_type": "code",
   "execution_count": 6,
   "id": "5f1ee1fe",
   "metadata": {},
   "outputs": [
    {
     "name": "stdout",
     "output_type": "stream",
     "text": [
      "{'artificial': 1, 'intelligence': 1, 'or': 1, 'ai': 5, 'is': 2, 'a': 1, 'way': 1, 'for': 1, 'computers': 1, 'to': 1, 'learn': 3, 'and': 5, 'solve': 1, 'problems': 1, 'helps': 2, 'machines': 1, 'think': 1, 'make': 1, 'decisions': 1, 'used': 1, 'in': 1, 'phones': 1, 'cars': 1, 'games': 1, 'can': 1, 'from': 1, 'data': 1, 'improve': 1, 'over': 1, 'time': 1, 'makes': 1, 'life': 1, 'easier': 1, 'people': 1, 'every': 1, 'day': 1}\n"
     ]
    }
   ],
   "source": [
    "def word_count(filename) -> dict:\n",
    "    counts = {}\n",
    "    try:\n",
    "        with open(filename, 'r') as file:\n",
    "            text = file.read()\n",
    "            if not text.strip():\n",
    "                return {}\n",
    "            words = text.split()\n",
    "            for word in words:\n",
    "                word = word.lower().strip('.,!?;\"()[]{}')\n",
    "                if word:\n",
    "                    counts[word] = counts.get(word, 0) + 1\n",
    "        return counts\n",
    "    except FileNotFoundError:\n",
    "        print(f\"File '{filename}' not found.\")\n",
    "        return {}\n",
    "    except Exception as e:\n",
    "        print(f\"Error: {e}\")\n",
    "        return {}\n",
    "\n",
    "# Example usage:\n",
    "result = word_count('sample.txt')\n",
    "print(result)"
   ]
  }
 ],
 "metadata": {
  "kernelspec": {
   "display_name": "Python 3",
   "language": "python",
   "name": "python3"
  },
  "language_info": {
   "codemirror_mode": {
    "name": "ipython",
    "version": 3
   },
   "file_extension": ".py",
   "mimetype": "text/x-python",
   "name": "python",
   "nbconvert_exporter": "python",
   "pygments_lexer": "ipython3",
   "version": "3.11.9"
  }
 },
 "nbformat": 4,
 "nbformat_minor": 5
}
